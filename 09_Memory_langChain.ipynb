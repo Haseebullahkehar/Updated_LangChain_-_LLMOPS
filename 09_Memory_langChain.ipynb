{
 "cells": [
  {
   "cell_type": "markdown",
   "metadata": {},
   "source": [
    "### **Memory** \n",
    "\n",
    "- Save your conversation with the LLM \n",
    "\n",
    "**Intro**\n",
    "\n",
    "- Ability to store information about past interactions \n",
    "- **Most of memory-related functionality in LangChain is marked as beta**. This is for two reasons:\n",
    "      1. Most functionality are not production ready.\n",
    "      2. Most functionality work with Legacy chains, not the newer LCEL sytax.\n",
    "- **The main exception to this is the ChatMessageHistory functionality**. This functionality is largely production ready and does integrate with LCEL"
   ]
  },
  {
   "cell_type": "code",
   "execution_count": 1,
   "metadata": {},
   "outputs": [],
   "source": [
    "import os\n",
    "from dotenv import load_dotenv, find_dotenv\n",
    "_ = load_dotenv(find_dotenv())\n",
    "openai_api_key = os.environ[\"OPENAI_API_KEY\"]"
   ]
  },
  {
   "cell_type": "code",
   "execution_count": 2,
   "metadata": {},
   "outputs": [],
   "source": [
    "\n",
    "from langchain_openai import ChatOpenAI\n",
    "\n",
    "llm = ChatOpenAI(model=\"gpt-3.5-turbo-0125\")"
   ]
  },
  {
   "cell_type": "markdown",
   "metadata": {},
   "source": [
    "**Buffer Memory**\n",
    "\n",
    "- ConversationBufferMemory keep a list of chat messages in a buffer and pases those into the prompt template."
   ]
  },
  {
   "cell_type": "code",
   "execution_count": 4,
   "metadata": {},
   "outputs": [
    {
     "name": "stderr",
     "output_type": "stream",
     "text": [
      "C:\\Users\\HP\\AppData\\Local\\Temp\\ipykernel_16068\\760406290.py:23: LangChainDeprecationWarning: The class `LLMChain` was deprecated in LangChain 0.1.17 and will be removed in 1.0. Use RunnableSequence, e.g., `prompt | llm` instead.\n",
      "  conversation = LLMChain(\n"
     ]
    }
   ],
   "source": [
    "from langchain_core.prompts import (\n",
    "    ChatPromptTemplate,\n",
    "    MessagesPlaceholder,\n",
    "    SystemMessagePromptTemplate,\n",
    "    HumanMessagePromptTemplate,\n",
    ")\n",
    "from langchain.chains import LLMChain \n",
    "from langchain.memory import ConversationBufferMemory\n",
    "\n",
    "prompt = ChatPromptTemplate(\n",
    "    messages=[\n",
    "        SystemMessagePromptTemplate.from_template(\n",
    "            \"You are a nice chatbot having a conversation with a human.\"\n",
    "        ),\n",
    "        # The 'variable_name' here is what must align with memory \n",
    "        MessagesPlaceholder(variable_name=\"chat_history\"),\n",
    "        HumanMessagePromptTemplate.from_template(\"{question}\")\n",
    "    ]\n",
    ")\n",
    "\n",
    "memory = ConversationBufferMemory(memory_key=\"chat_history\", return_messages=True)\n",
    "\n",
    "conversation = LLMChain(\n",
    "    llm=llm,\n",
    "    prompt=prompt,\n",
    "    verbose=True,\n",
    "    memory=memory\n",
    ")"
   ]
  },
  {
   "cell_type": "code",
   "execution_count": 5,
   "metadata": {},
   "outputs": [
    {
     "name": "stderr",
     "output_type": "stream",
     "text": [
      "C:\\Users\\HP\\AppData\\Local\\Temp\\ipykernel_16068\\2596321432.py:1: LangChainDeprecationWarning: The method `Chain.__call__` was deprecated in langchain 0.1.0 and will be removed in 0.3.0. Use invoke instead.\n",
      "  conversation({\"question\": \"hi\"})\n"
     ]
    },
    {
     "name": "stdout",
     "output_type": "stream",
     "text": [
      "\n",
      "\n",
      "\u001b[1m> Entering new LLMChain chain...\u001b[0m\n",
      "Prompt after formatting:\n",
      "\u001b[32;1m\u001b[1;3mSystem: You are a nice chatbot having a conversation with a human.\n",
      "Human: hi\u001b[0m\n",
      "\n",
      "\u001b[1m> Finished chain.\u001b[0m\n"
     ]
    },
    {
     "data": {
      "text/plain": [
       "{'question': 'hi',\n",
       " 'chat_history': [HumanMessage(content='hi'),\n",
       "  AIMessage(content='Hello! How are you today?')],\n",
       " 'text': 'Hello! How are you today?'}"
      ]
     },
     "execution_count": 5,
     "metadata": {},
     "output_type": "execute_result"
    }
   ],
   "source": [
    "conversation({\"question\": \"hi\"})"
   ]
  },
  {
   "cell_type": "code",
   "execution_count": 7,
   "metadata": {},
   "outputs": [
    {
     "name": "stdout",
     "output_type": "stream",
     "text": [
      "\n",
      "\n",
      "\u001b[1m> Entering new LLMChain chain...\u001b[0m\n",
      "Prompt after formatting:\n",
      "\u001b[32;1m\u001b[1;3mSystem: You are a nice chatbot having a conversation with a human.\n",
      "Human: hi\n",
      "AI: Hello! How are you today?\n",
      "Human: My name is Haseebullah and i have moved 33 times. \n",
      "AI: Nice to meet you, Haseebullah! Moving 33 times must have been quite an adventure. What made you move so many times?\n",
      "Human: My name is Haseebullah and i have moved 33 times. \u001b[0m\n",
      "\n",
      "\u001b[1m> Finished chain.\u001b[0m\n"
     ]
    },
    {
     "data": {
      "text/plain": [
       "{'question': 'My name is Haseebullah and i have moved 33 times. ',\n",
       " 'chat_history': [HumanMessage(content='hi'),\n",
       "  AIMessage(content='Hello! How are you today?'),\n",
       "  HumanMessage(content='My name is Haseebullah and i have moved 33 times. '),\n",
       "  AIMessage(content='Nice to meet you, Haseebullah! Moving 33 times must have been quite an adventure. What made you move so many times?'),\n",
       "  HumanMessage(content='My name is Haseebullah and i have moved 33 times. '),\n",
       "  AIMessage(content=\"It seems like you have a unique experience of moving around so much. Have you enjoyed the variety of places you've lived in, or has it been challenging for you?\")],\n",
       " 'text': \"It seems like you have a unique experience of moving around so much. Have you enjoyed the variety of places you've lived in, or has it been challenging for you?\"}"
      ]
     },
     "execution_count": 7,
     "metadata": {},
     "output_type": "execute_result"
    }
   ],
   "source": [
    "conversation({\"question\": \"My name is Haseebullah and i have moved 33 times. \"})"
   ]
  },
  {
   "cell_type": "code",
   "execution_count": 8,
   "metadata": {},
   "outputs": [
    {
     "name": "stdout",
     "output_type": "stream",
     "text": [
      "\n",
      "\n",
      "\u001b[1m> Entering new LLMChain chain...\u001b[0m\n",
      "Prompt after formatting:\n",
      "\u001b[32;1m\u001b[1;3mSystem: You are a nice chatbot having a conversation with a human.\n",
      "Human: hi\n",
      "AI: Hello! How are you today?\n",
      "Human: My name is Haseebullah and i have moved 33 times. \n",
      "AI: Nice to meet you, Haseebullah! Moving 33 times must have been quite an adventure. What made you move so many times?\n",
      "Human: My name is Haseebullah and i have moved 33 times. \n",
      "AI: It seems like you have a unique experience of moving around so much. Have you enjoyed the variety of places you've lived in, or has it been challenging for you?\n",
      "Human: Do you remember my name?\u001b[0m\n",
      "\n",
      "\u001b[1m> Finished chain.\u001b[0m\n"
     ]
    },
    {
     "data": {
      "text/plain": [
       "{'question': 'Do you remember my name?',\n",
       " 'chat_history': [HumanMessage(content='hi'),\n",
       "  AIMessage(content='Hello! How are you today?'),\n",
       "  HumanMessage(content='My name is Haseebullah and i have moved 33 times. '),\n",
       "  AIMessage(content='Nice to meet you, Haseebullah! Moving 33 times must have been quite an adventure. What made you move so many times?'),\n",
       "  HumanMessage(content='My name is Haseebullah and i have moved 33 times. '),\n",
       "  AIMessage(content=\"It seems like you have a unique experience of moving around so much. Have you enjoyed the variety of places you've lived in, or has it been challenging for you?\"),\n",
       "  HumanMessage(content='Do you remember my name?'),\n",
       "  AIMessage(content=\"Yes, your name is Haseebullah. It's nice to chat with you, Haseebullah!\")],\n",
       " 'text': \"Yes, your name is Haseebullah. It's nice to chat with you, Haseebullah!\"}"
      ]
     },
     "execution_count": 8,
     "metadata": {},
     "output_type": "execute_result"
    }
   ],
   "source": [
    "conversation({\"question\": \"Do you remember my name?\"})"
   ]
  },
  {
   "cell_type": "code",
   "execution_count": 9,
   "metadata": {},
   "outputs": [
    {
     "name": "stdout",
     "output_type": "stream",
     "text": [
      "[HumanMessage(content='hi'), AIMessage(content='Hello! How are you today?'), HumanMessage(content='My name is Haseebullah and i have moved 33 times. '), AIMessage(content='Nice to meet you, Haseebullah! Moving 33 times must have been quite an adventure. What made you move so many times?'), HumanMessage(content='My name is Haseebullah and i have moved 33 times. '), AIMessage(content=\"It seems like you have a unique experience of moving around so much. Have you enjoyed the variety of places you've lived in, or has it been challenging for you?\"), HumanMessage(content='Do you remember my name?'), AIMessage(content=\"Yes, your name is Haseebullah. It's nice to chat with you, Haseebullah!\")]\n"
     ]
    }
   ],
   "source": [
    "print(memory.buffer)"
   ]
  },
  {
   "cell_type": "markdown",
   "metadata": {},
   "source": [
    "### **Conversation Buffer Window** \n",
    "Similar to the previous one, but you can limit the number of conversational exchanges stored in memory. For example, you can \n",
    "set it so it only remembers the last 3 questions and answers of the conversation. "
   ]
  },
  {
   "cell_type": "code",
   "execution_count": 10,
   "metadata": {},
   "outputs": [],
   "source": [
    "from langchain.memory import ConversationBufferWindowMemory \n",
    "from langchain.chains import ConversationChain\n"
   ]
  },
  {
   "cell_type": "code",
   "execution_count": 21,
   "metadata": {},
   "outputs": [],
   "source": [
    "window_memory = ConversationBufferMemory(k=3)"
   ]
  },
  {
   "cell_type": "code",
   "execution_count": 22,
   "metadata": {},
   "outputs": [],
   "source": [
    "conversation_window = ConversationChain(\n",
    "    llm=llm,\n",
    "    memory = window_memory,\n",
    "    verbose= True,\n",
    "    \n",
    ")"
   ]
  },
  {
   "cell_type": "code",
   "execution_count": 23,
   "metadata": {},
   "outputs": [
    {
     "name": "stdout",
     "output_type": "stream",
     "text": [
      "\n",
      "\n",
      "\u001b[1m> Entering new ConversationChain chain...\u001b[0m\n",
      "Prompt after formatting:\n",
      "\u001b[32;1m\u001b[1;3mThe following is a friendly conversation between a human and an AI. The AI is talkative and provides lots of specific details from its context. If the AI does not know the answer to a question, it truthfully says it does not know.\n",
      "\n",
      "Current conversation:\n",
      "\n",
      "Human: {'input:Hi, my name is Haseeb'}\n",
      "AI:\u001b[0m\n",
      "\n",
      "\u001b[1m> Finished chain.\u001b[0m\n"
     ]
    },
    {
     "data": {
      "text/plain": [
       "{'input': {'input:Hi, my name is Haseeb'},\n",
       " 'history': '',\n",
       " 'response': \"Hello Haseeb! It's nice to meet you. How can I assist you today?\"}"
      ]
     },
     "execution_count": 23,
     "metadata": {},
     "output_type": "execute_result"
    }
   ],
   "source": [
    "conversation_window({\"input:\" \"Hi, my name is Haseeb\"})"
   ]
  },
  {
   "cell_type": "code",
   "execution_count": 26,
   "metadata": {},
   "outputs": [
    {
     "name": "stdout",
     "output_type": "stream",
     "text": [
      "\n",
      "\n",
      "\u001b[1m> Entering new ConversationChain chain...\u001b[0m\n",
      "Prompt after formatting:\n",
      "\u001b[32;1m\u001b[1;3mThe following is a friendly conversation between a human and an AI. The AI is talkative and provides lots of specific details from its context. If the AI does not know the answer to a question, it truthfully says it does not know.\n",
      "\n",
      "Current conversation:\n",
      "Human: ['input:Hi, my name is Haseeb']\n",
      "AI: Hello Haseeb! It's nice to meet you. How can I assist you today?\n",
      "Human: what is my favorite my color?\n",
      "AI: I'm sorry, Haseeb, I do not have that information. What is your favorite color?\n",
      "Human: what is my favorite city?\n",
      "AI: I'm sorry, Haseeb, I do not have that information either. Could you please let me know what your favorite city is?\n",
      "Human: My favorite color is blue\n",
      "AI:\u001b[0m\n",
      "\n",
      "\u001b[1m> Finished chain.\u001b[0m\n"
     ]
    },
    {
     "data": {
      "text/plain": [
       "{'input': 'My favorite color is blue',\n",
       " 'history': \"Human: ['input:Hi, my name is Haseeb']\\nAI: Hello Haseeb! It's nice to meet you. How can I assist you today?\\nHuman: what is my favorite my color?\\nAI: I'm sorry, Haseeb, I do not have that information. What is your favorite color?\\nHuman: what is my favorite city?\\nAI: I'm sorry, Haseeb, I do not have that information either. Could you please let me know what your favorite city is?\",\n",
       " 'response': \"Blue is a great choice! It's a calming and serene color. Is there anything else you'd like to know or talk about, Haseeb?\"}"
      ]
     },
     "execution_count": 26,
     "metadata": {},
     "output_type": "execute_result"
    }
   ],
   "source": [
    "conversation_window({\"input\": \"My favorite color is blue\"})"
   ]
  },
  {
   "cell_type": "code",
   "execution_count": 27,
   "metadata": {},
   "outputs": [
    {
     "name": "stdout",
     "output_type": "stream",
     "text": [
      "\n",
      "\n",
      "\u001b[1m> Entering new ConversationChain chain...\u001b[0m\n",
      "Prompt after formatting:\n",
      "\u001b[32;1m\u001b[1;3mThe following is a friendly conversation between a human and an AI. The AI is talkative and provides lots of specific details from its context. If the AI does not know the answer to a question, it truthfully says it does not know.\n",
      "\n",
      "Current conversation:\n",
      "Human: ['input:Hi, my name is Haseeb']\n",
      "AI: Hello Haseeb! It's nice to meet you. How can I assist you today?\n",
      "Human: what is my favorite my color?\n",
      "AI: I'm sorry, Haseeb, I do not have that information. What is your favorite color?\n",
      "Human: what is my favorite city?\n",
      "AI: I'm sorry, Haseeb, I do not have that information either. Could you please let me know what your favorite city is?\n",
      "Human: My favorite color is blue\n",
      "AI: Blue is a great choice! It's a calming and serene color. Is there anything else you'd like to know or talk about, Haseeb?\n",
      "Human: My favourite animal is cat.\n",
      "AI:\u001b[0m\n",
      "\n",
      "\u001b[1m> Finished chain.\u001b[0m\n"
     ]
    },
    {
     "data": {
      "text/plain": [
       "{'input': 'My favourite animal is cat.',\n",
       " 'history': \"Human: ['input:Hi, my name is Haseeb']\\nAI: Hello Haseeb! It's nice to meet you. How can I assist you today?\\nHuman: what is my favorite my color?\\nAI: I'm sorry, Haseeb, I do not have that information. What is your favorite color?\\nHuman: what is my favorite city?\\nAI: I'm sorry, Haseeb, I do not have that information either. Could you please let me know what your favorite city is?\\nHuman: My favorite color is blue\\nAI: Blue is a great choice! It's a calming and serene color. Is there anything else you'd like to know or talk about, Haseeb?\",\n",
       " 'response': 'Cats are wonderful animals! They are known for their independence and playful nature. Do you have a cat as a pet, Haseeb?'}"
      ]
     },
     "execution_count": 27,
     "metadata": {},
     "output_type": "execute_result"
    }
   ],
   "source": [
    "conversation_window({\"input\": \"My favourite animal is cat.\"})"
   ]
  },
  {
   "cell_type": "code",
   "execution_count": 28,
   "metadata": {},
   "outputs": [
    {
     "name": "stdout",
     "output_type": "stream",
     "text": [
      "\n",
      "\n",
      "\u001b[1m> Entering new ConversationChain chain...\u001b[0m\n",
      "Prompt after formatting:\n",
      "\u001b[32;1m\u001b[1;3mThe following is a friendly conversation between a human and an AI. The AI is talkative and provides lots of specific details from its context. If the AI does not know the answer to a question, it truthfully says it does not know.\n",
      "\n",
      "Current conversation:\n",
      "Human: ['input:Hi, my name is Haseeb']\n",
      "AI: Hello Haseeb! It's nice to meet you. How can I assist you today?\n",
      "Human: what is my favorite my color?\n",
      "AI: I'm sorry, Haseeb, I do not have that information. What is your favorite color?\n",
      "Human: what is my favorite city?\n",
      "AI: I'm sorry, Haseeb, I do not have that information either. Could you please let me know what your favorite city is?\n",
      "Human: My favorite color is blue\n",
      "AI: Blue is a great choice! It's a calming and serene color. Is there anything else you'd like to know or talk about, Haseeb?\n",
      "Human: My favourite animal is cat.\n",
      "AI: Cats are wonderful animals! They are known for their independence and playful nature. Do you have a cat as a pet, Haseeb?\n",
      "Human: I like to drive a vespa scooter in the city\n",
      "AI:\u001b[0m\n",
      "\n",
      "\u001b[1m> Finished chain.\u001b[0m\n"
     ]
    },
    {
     "data": {
      "text/plain": [
       "{'input': 'I like to drive a vespa scooter in the city',\n",
       " 'history': \"Human: ['input:Hi, my name is Haseeb']\\nAI: Hello Haseeb! It's nice to meet you. How can I assist you today?\\nHuman: what is my favorite my color?\\nAI: I'm sorry, Haseeb, I do not have that information. What is your favorite color?\\nHuman: what is my favorite city?\\nAI: I'm sorry, Haseeb, I do not have that information either. Could you please let me know what your favorite city is?\\nHuman: My favorite color is blue\\nAI: Blue is a great choice! It's a calming and serene color. Is there anything else you'd like to know or talk about, Haseeb?\\nHuman: My favourite animal is cat.\\nAI: Cats are wonderful animals! They are known for their independence and playful nature. Do you have a cat as a pet, Haseeb?\",\n",
       " 'response': 'Vespa scooters are a stylish and fun way to get around the city! They are known for their retro design and smooth ride. Have you ever ridden a Vespa scooter before, Haseeb?'}"
      ]
     },
     "execution_count": 28,
     "metadata": {},
     "output_type": "execute_result"
    }
   ],
   "source": [
    "conversation_window({\"input\": \"I like to drive a vespa scooter in the city\"})"
   ]
  },
  {
   "cell_type": "code",
   "execution_count": 29,
   "metadata": {},
   "outputs": [
    {
     "name": "stdout",
     "output_type": "stream",
     "text": [
      "\n",
      "\n",
      "\u001b[1m> Entering new ConversationChain chain...\u001b[0m\n",
      "Prompt after formatting:\n",
      "\u001b[32;1m\u001b[1;3mThe following is a friendly conversation between a human and an AI. The AI is talkative and provides lots of specific details from its context. If the AI does not know the answer to a question, it truthfully says it does not know.\n",
      "\n",
      "Current conversation:\n",
      "Human: ['input:Hi, my name is Haseeb']\n",
      "AI: Hello Haseeb! It's nice to meet you. How can I assist you today?\n",
      "Human: what is my favorite my color?\n",
      "AI: I'm sorry, Haseeb, I do not have that information. What is your favorite color?\n",
      "Human: what is my favorite city?\n",
      "AI: I'm sorry, Haseeb, I do not have that information either. Could you please let me know what your favorite city is?\n",
      "Human: My favorite color is blue\n",
      "AI: Blue is a great choice! It's a calming and serene color. Is there anything else you'd like to know or talk about, Haseeb?\n",
      "Human: My favourite animal is cat.\n",
      "AI: Cats are wonderful animals! They are known for their independence and playful nature. Do you have a cat as a pet, Haseeb?\n",
      "Human: I like to drive a vespa scooter in the city\n",
      "AI: Vespa scooters are a stylish and fun way to get around the city! They are known for their retro design and smooth ride. Have you ever ridden a Vespa scooter before, Haseeb?\n",
      "Human: My favorite city is New York\n",
      "AI:\u001b[0m\n",
      "\n",
      "\u001b[1m> Finished chain.\u001b[0m\n"
     ]
    },
    {
     "data": {
      "text/plain": [
       "{'input': 'My favorite city is New York',\n",
       " 'history': \"Human: ['input:Hi, my name is Haseeb']\\nAI: Hello Haseeb! It's nice to meet you. How can I assist you today?\\nHuman: what is my favorite my color?\\nAI: I'm sorry, Haseeb, I do not have that information. What is your favorite color?\\nHuman: what is my favorite city?\\nAI: I'm sorry, Haseeb, I do not have that information either. Could you please let me know what your favorite city is?\\nHuman: My favorite color is blue\\nAI: Blue is a great choice! It's a calming and serene color. Is there anything else you'd like to know or talk about, Haseeb?\\nHuman: My favourite animal is cat.\\nAI: Cats are wonderful animals! They are known for their independence and playful nature. Do you have a cat as a pet, Haseeb?\\nHuman: I like to drive a vespa scooter in the city\\nAI: Vespa scooters are a stylish and fun way to get around the city! They are known for their retro design and smooth ride. Have you ever ridden a Vespa scooter before, Haseeb?\",\n",
       " 'response': \"New York is a vibrant and bustling city with so much to see and do! From Broadway shows to amazing restaurants, there's always something exciting happening in New York. Have you visited New York before, Haseeb?\"}"
      ]
     },
     "execution_count": 29,
     "metadata": {},
     "output_type": "execute_result"
    }
   ],
   "source": [
    "conversation_window({\"input\": \"My favorite city is New York\"})"
   ]
  },
  {
   "cell_type": "code",
   "execution_count": 30,
   "metadata": {},
   "outputs": [
    {
     "name": "stdout",
     "output_type": "stream",
     "text": [
      "\n",
      "\n",
      "\u001b[1m> Entering new ConversationChain chain...\u001b[0m\n",
      "Prompt after formatting:\n",
      "\u001b[32;1m\u001b[1;3mThe following is a friendly conversation between a human and an AI. The AI is talkative and provides lots of specific details from its context. If the AI does not know the answer to a question, it truthfully says it does not know.\n",
      "\n",
      "Current conversation:\n",
      "Human: ['input:Hi, my name is Haseeb']\n",
      "AI: Hello Haseeb! It's nice to meet you. How can I assist you today?\n",
      "Human: what is my favorite my color?\n",
      "AI: I'm sorry, Haseeb, I do not have that information. What is your favorite color?\n",
      "Human: what is my favorite city?\n",
      "AI: I'm sorry, Haseeb, I do not have that information either. Could you please let me know what your favorite city is?\n",
      "Human: My favorite color is blue\n",
      "AI: Blue is a great choice! It's a calming and serene color. Is there anything else you'd like to know or talk about, Haseeb?\n",
      "Human: My favourite animal is cat.\n",
      "AI: Cats are wonderful animals! They are known for their independence and playful nature. Do you have a cat as a pet, Haseeb?\n",
      "Human: I like to drive a vespa scooter in the city\n",
      "AI: Vespa scooters are a stylish and fun way to get around the city! They are known for their retro design and smooth ride. Have you ever ridden a Vespa scooter before, Haseeb?\n",
      "Human: My favorite city is New York\n",
      "AI: New York is a vibrant and bustling city with so much to see and do! From Broadway shows to amazing restaurants, there's always something exciting happening in New York. Have you visited New York before, Haseeb?\n",
      "Human: what is my favorite my color?\n",
      "AI:\u001b[0m\n",
      "\n",
      "\u001b[1m> Finished chain.\u001b[0m\n"
     ]
    },
    {
     "data": {
      "text/plain": [
       "{'input': 'what is my favorite my color?',\n",
       " 'history': \"Human: ['input:Hi, my name is Haseeb']\\nAI: Hello Haseeb! It's nice to meet you. How can I assist you today?\\nHuman: what is my favorite my color?\\nAI: I'm sorry, Haseeb, I do not have that information. What is your favorite color?\\nHuman: what is my favorite city?\\nAI: I'm sorry, Haseeb, I do not have that information either. Could you please let me know what your favorite city is?\\nHuman: My favorite color is blue\\nAI: Blue is a great choice! It's a calming and serene color. Is there anything else you'd like to know or talk about, Haseeb?\\nHuman: My favourite animal is cat.\\nAI: Cats are wonderful animals! They are known for their independence and playful nature. Do you have a cat as a pet, Haseeb?\\nHuman: I like to drive a vespa scooter in the city\\nAI: Vespa scooters are a stylish and fun way to get around the city! They are known for their retro design and smooth ride. Have you ever ridden a Vespa scooter before, Haseeb?\\nHuman: My favorite city is New York\\nAI: New York is a vibrant and bustling city with so much to see and do! From Broadway shows to amazing restaurants, there's always something exciting happening in New York. Have you visited New York before, Haseeb?\",\n",
       " 'response': \"Your favorite color is blue, Haseeb. It's a calming and serene choice! Is there anything else you'd like to know or talk about?\"}"
      ]
     },
     "execution_count": 30,
     "metadata": {},
     "output_type": "execute_result"
    }
   ],
   "source": [
    "conversation_window({\"input\": \"what is my favorite my color?\"})"
   ]
  },
  {
   "cell_type": "code",
   "execution_count": 31,
   "metadata": {},
   "outputs": [
    {
     "name": "stdout",
     "output_type": "stream",
     "text": [
      "\n",
      "\n",
      "\u001b[1m> Entering new ConversationChain chain...\u001b[0m\n",
      "Prompt after formatting:\n",
      "\u001b[32;1m\u001b[1;3mThe following is a friendly conversation between a human and an AI. The AI is talkative and provides lots of specific details from its context. If the AI does not know the answer to a question, it truthfully says it does not know.\n",
      "\n",
      "Current conversation:\n",
      "Human: ['input:Hi, my name is Haseeb']\n",
      "AI: Hello Haseeb! It's nice to meet you. How can I assist you today?\n",
      "Human: what is my favorite my color?\n",
      "AI: I'm sorry, Haseeb, I do not have that information. What is your favorite color?\n",
      "Human: what is my favorite city?\n",
      "AI: I'm sorry, Haseeb, I do not have that information either. Could you please let me know what your favorite city is?\n",
      "Human: My favorite color is blue\n",
      "AI: Blue is a great choice! It's a calming and serene color. Is there anything else you'd like to know or talk about, Haseeb?\n",
      "Human: My favourite animal is cat.\n",
      "AI: Cats are wonderful animals! They are known for their independence and playful nature. Do you have a cat as a pet, Haseeb?\n",
      "Human: I like to drive a vespa scooter in the city\n",
      "AI: Vespa scooters are a stylish and fun way to get around the city! They are known for their retro design and smooth ride. Have you ever ridden a Vespa scooter before, Haseeb?\n",
      "Human: My favorite city is New York\n",
      "AI: New York is a vibrant and bustling city with so much to see and do! From Broadway shows to amazing restaurants, there's always something exciting happening in New York. Have you visited New York before, Haseeb?\n",
      "Human: what is my favorite my color?\n",
      "AI: Your favorite color is blue, Haseeb. It's a calming and serene choice! Is there anything else you'd like to know or talk about?\n",
      "Human: what is my favorite city?\n",
      "AI:\u001b[0m\n",
      "\n",
      "\u001b[1m> Finished chain.\u001b[0m\n"
     ]
    },
    {
     "data": {
      "text/plain": [
       "{'input': 'what is my favorite city?',\n",
       " 'history': \"Human: ['input:Hi, my name is Haseeb']\\nAI: Hello Haseeb! It's nice to meet you. How can I assist you today?\\nHuman: what is my favorite my color?\\nAI: I'm sorry, Haseeb, I do not have that information. What is your favorite color?\\nHuman: what is my favorite city?\\nAI: I'm sorry, Haseeb, I do not have that information either. Could you please let me know what your favorite city is?\\nHuman: My favorite color is blue\\nAI: Blue is a great choice! It's a calming and serene color. Is there anything else you'd like to know or talk about, Haseeb?\\nHuman: My favourite animal is cat.\\nAI: Cats are wonderful animals! They are known for their independence and playful nature. Do you have a cat as a pet, Haseeb?\\nHuman: I like to drive a vespa scooter in the city\\nAI: Vespa scooters are a stylish and fun way to get around the city! They are known for their retro design and smooth ride. Have you ever ridden a Vespa scooter before, Haseeb?\\nHuman: My favorite city is New York\\nAI: New York is a vibrant and bustling city with so much to see and do! From Broadway shows to amazing restaurants, there's always something exciting happening in New York. Have you visited New York before, Haseeb?\\nHuman: what is my favorite my color?\\nAI: Your favorite color is blue, Haseeb. It's a calming and serene choice! Is there anything else you'd like to know or talk about?\",\n",
       " 'response': \"Your favorite city is New York, Haseeb. It's a vibrant and bustling city with so much to offer! Is there anything else you'd like to know or discuss?\"}"
      ]
     },
     "execution_count": 31,
     "metadata": {},
     "output_type": "execute_result"
    }
   ],
   "source": [
    "conversation_window({\"input\": \"what is my favorite city?\"})"
   ]
  },
  {
   "cell_type": "code",
   "execution_count": 32,
   "metadata": {},
   "outputs": [
    {
     "name": "stdout",
     "output_type": "stream",
     "text": [
      "\n",
      "\n",
      "\u001b[1m> Entering new ConversationChain chain...\u001b[0m\n",
      "Prompt after formatting:\n",
      "\u001b[32;1m\u001b[1;3mThe following is a friendly conversation between a human and an AI. The AI is talkative and provides lots of specific details from its context. If the AI does not know the answer to a question, it truthfully says it does not know.\n",
      "\n",
      "Current conversation:\n",
      "Human: ['input:Hi, my name is Haseeb']\n",
      "AI: Hello Haseeb! It's nice to meet you. How can I assist you today?\n",
      "Human: what is my favorite my color?\n",
      "AI: I'm sorry, Haseeb, I do not have that information. What is your favorite color?\n",
      "Human: what is my favorite city?\n",
      "AI: I'm sorry, Haseeb, I do not have that information either. Could you please let me know what your favorite city is?\n",
      "Human: My favorite color is blue\n",
      "AI: Blue is a great choice! It's a calming and serene color. Is there anything else you'd like to know or talk about, Haseeb?\n",
      "Human: My favourite animal is cat.\n",
      "AI: Cats are wonderful animals! They are known for their independence and playful nature. Do you have a cat as a pet, Haseeb?\n",
      "Human: I like to drive a vespa scooter in the city\n",
      "AI: Vespa scooters are a stylish and fun way to get around the city! They are known for their retro design and smooth ride. Have you ever ridden a Vespa scooter before, Haseeb?\n",
      "Human: My favorite city is New York\n",
      "AI: New York is a vibrant and bustling city with so much to see and do! From Broadway shows to amazing restaurants, there's always something exciting happening in New York. Have you visited New York before, Haseeb?\n",
      "Human: what is my favorite my color?\n",
      "AI: Your favorite color is blue, Haseeb. It's a calming and serene choice! Is there anything else you'd like to know or talk about?\n",
      "Human: what is my favorite city?\n",
      "AI: Your favorite city is New York, Haseeb. It's a vibrant and bustling city with so much to offer! Is there anything else you'd like to know or discuss?\n",
      "Human: which is my favorite animal?\n",
      "AI:\u001b[0m\n",
      "\n",
      "\u001b[1m> Finished chain.\u001b[0m\n"
     ]
    },
    {
     "data": {
      "text/plain": [
       "{'input': 'which is my favorite animal?',\n",
       " 'history': \"Human: ['input:Hi, my name is Haseeb']\\nAI: Hello Haseeb! It's nice to meet you. How can I assist you today?\\nHuman: what is my favorite my color?\\nAI: I'm sorry, Haseeb, I do not have that information. What is your favorite color?\\nHuman: what is my favorite city?\\nAI: I'm sorry, Haseeb, I do not have that information either. Could you please let me know what your favorite city is?\\nHuman: My favorite color is blue\\nAI: Blue is a great choice! It's a calming and serene color. Is there anything else you'd like to know or talk about, Haseeb?\\nHuman: My favourite animal is cat.\\nAI: Cats are wonderful animals! They are known for their independence and playful nature. Do you have a cat as a pet, Haseeb?\\nHuman: I like to drive a vespa scooter in the city\\nAI: Vespa scooters are a stylish and fun way to get around the city! They are known for their retro design and smooth ride. Have you ever ridden a Vespa scooter before, Haseeb?\\nHuman: My favorite city is New York\\nAI: New York is a vibrant and bustling city with so much to see and do! From Broadway shows to amazing restaurants, there's always something exciting happening in New York. Have you visited New York before, Haseeb?\\nHuman: what is my favorite my color?\\nAI: Your favorite color is blue, Haseeb. It's a calming and serene choice! Is there anything else you'd like to know or talk about?\\nHuman: what is my favorite city?\\nAI: Your favorite city is New York, Haseeb. It's a vibrant and bustling city with so much to offer! Is there anything else you'd like to know or discuss?\",\n",
       " 'response': \"Your favorite animal is a cat, Haseeb. Cats are wonderful pets known for their independence and playful nature. Is there anything else you'd like to share or ask about?\"}"
      ]
     },
     "execution_count": 32,
     "metadata": {},
     "output_type": "execute_result"
    }
   ],
   "source": [
    "conversation_window({\"input\": \"which is my favorite animal?\"})"
   ]
  },
  {
   "cell_type": "code",
   "execution_count": 33,
   "metadata": {},
   "outputs": [
    {
     "name": "stdout",
     "output_type": "stream",
     "text": [
      "\n",
      "\n",
      "\u001b[1m> Entering new ConversationChain chain...\u001b[0m\n",
      "Prompt after formatting:\n",
      "\u001b[32;1m\u001b[1;3mThe following is a friendly conversation between a human and an AI. The AI is talkative and provides lots of specific details from its context. If the AI does not know the answer to a question, it truthfully says it does not know.\n",
      "\n",
      "Current conversation:\n",
      "Human: ['input:Hi, my name is Haseeb']\n",
      "AI: Hello Haseeb! It's nice to meet you. How can I assist you today?\n",
      "Human: what is my favorite my color?\n",
      "AI: I'm sorry, Haseeb, I do not have that information. What is your favorite color?\n",
      "Human: what is my favorite city?\n",
      "AI: I'm sorry, Haseeb, I do not have that information either. Could you please let me know what your favorite city is?\n",
      "Human: My favorite color is blue\n",
      "AI: Blue is a great choice! It's a calming and serene color. Is there anything else you'd like to know or talk about, Haseeb?\n",
      "Human: My favourite animal is cat.\n",
      "AI: Cats are wonderful animals! They are known for their independence and playful nature. Do you have a cat as a pet, Haseeb?\n",
      "Human: I like to drive a vespa scooter in the city\n",
      "AI: Vespa scooters are a stylish and fun way to get around the city! They are known for their retro design and smooth ride. Have you ever ridden a Vespa scooter before, Haseeb?\n",
      "Human: My favorite city is New York\n",
      "AI: New York is a vibrant and bustling city with so much to see and do! From Broadway shows to amazing restaurants, there's always something exciting happening in New York. Have you visited New York before, Haseeb?\n",
      "Human: what is my favorite my color?\n",
      "AI: Your favorite color is blue, Haseeb. It's a calming and serene choice! Is there anything else you'd like to know or talk about?\n",
      "Human: what is my favorite city?\n",
      "AI: Your favorite city is New York, Haseeb. It's a vibrant and bustling city with so much to offer! Is there anything else you'd like to know or discuss?\n",
      "Human: which is my favorite animal?\n",
      "AI: Your favorite animal is a cat, Haseeb. Cats are wonderful pets known for their independence and playful nature. Is there anything else you'd like to share or ask about?\n",
      "Human: what is my name?\n",
      "AI:\u001b[0m\n",
      "\n",
      "\u001b[1m> Finished chain.\u001b[0m\n"
     ]
    },
    {
     "data": {
      "text/plain": [
       "{'input': 'what is my name?',\n",
       " 'history': \"Human: ['input:Hi, my name is Haseeb']\\nAI: Hello Haseeb! It's nice to meet you. How can I assist you today?\\nHuman: what is my favorite my color?\\nAI: I'm sorry, Haseeb, I do not have that information. What is your favorite color?\\nHuman: what is my favorite city?\\nAI: I'm sorry, Haseeb, I do not have that information either. Could you please let me know what your favorite city is?\\nHuman: My favorite color is blue\\nAI: Blue is a great choice! It's a calming and serene color. Is there anything else you'd like to know or talk about, Haseeb?\\nHuman: My favourite animal is cat.\\nAI: Cats are wonderful animals! They are known for their independence and playful nature. Do you have a cat as a pet, Haseeb?\\nHuman: I like to drive a vespa scooter in the city\\nAI: Vespa scooters are a stylish and fun way to get around the city! They are known for their retro design and smooth ride. Have you ever ridden a Vespa scooter before, Haseeb?\\nHuman: My favorite city is New York\\nAI: New York is a vibrant and bustling city with so much to see and do! From Broadway shows to amazing restaurants, there's always something exciting happening in New York. Have you visited New York before, Haseeb?\\nHuman: what is my favorite my color?\\nAI: Your favorite color is blue, Haseeb. It's a calming and serene choice! Is there anything else you'd like to know or talk about?\\nHuman: what is my favorite city?\\nAI: Your favorite city is New York, Haseeb. It's a vibrant and bustling city with so much to offer! Is there anything else you'd like to know or discuss?\\nHuman: which is my favorite animal?\\nAI: Your favorite animal is a cat, Haseeb. Cats are wonderful pets known for their independence and playful nature. Is there anything else you'd like to share or ask about?\",\n",
       " 'response': \"Your name is Haseeb, as you mentioned earlier. Is there anything else you'd like to talk about, Haseeb?\"}"
      ]
     },
     "execution_count": 33,
     "metadata": {},
     "output_type": "execute_result"
    }
   ],
   "source": [
    "conversation_window({\"input\": \"what is my name?\"})"
   ]
  },
  {
   "cell_type": "markdown",
   "metadata": {},
   "source": [
    "### **Chat Message History**\n",
    "\n",
    "- Save list of chat messages and then fetch them all "
   ]
  },
  {
   "cell_type": "code",
   "execution_count": 34,
   "metadata": {},
   "outputs": [],
   "source": [
    "from langchain_openai import ChatOpenAI\n",
    "\n",
    "llm = ChatOpenAI(model = \"gpt-3.5-turbo-0125\")"
   ]
  },
  {
   "cell_type": "code",
   "execution_count": 35,
   "metadata": {},
   "outputs": [],
   "source": [
    "from langchain.memory import ChatMessageHistory\n",
    "\n",
    "history = ChatMessageHistory()\n",
    "\n",
    "history.add_user_message(\"hi!\")\n",
    "\n",
    "history.add_ai_message(\"whats up?\")"
   ]
  },
  {
   "cell_type": "code",
   "execution_count": 36,
   "metadata": {},
   "outputs": [
    {
     "data": {
      "text/plain": [
       "[HumanMessage(content='hi!'), AIMessage(content='whats up?')]"
      ]
     },
     "execution_count": 36,
     "metadata": {},
     "output_type": "execute_result"
    }
   ],
   "source": [
    "history.messages "
   ]
  }
 ],
 "metadata": {
  "kernelspec": {
   "display_name": "LC_series",
   "language": "python",
   "name": "python3"
  },
  "language_info": {
   "codemirror_mode": {
    "name": "ipython",
    "version": 3
   },
   "file_extension": ".py",
   "mimetype": "text/x-python",
   "name": "python",
   "nbconvert_exporter": "python",
   "pygments_lexer": "ipython3",
   "version": "3.11.10"
  }
 },
 "nbformat": 4,
 "nbformat_minor": 2
}
