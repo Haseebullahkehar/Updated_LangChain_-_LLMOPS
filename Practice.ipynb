{
 "cells": [
  {
   "cell_type": "code",
   "execution_count": 1,
   "metadata": {},
   "outputs": [],
   "source": [
    "\n",
    "import os\n",
    "from dotenv import load_dotenv, find_dotenv\n",
    "_ = load_dotenv(find_dotenv())\n",
    "openai_api_key = os.environ[\"OPENAI_API_KEY\"]"
   ]
  },
  {
   "cell_type": "code",
   "execution_count": null,
   "metadata": {},
   "outputs": [],
   "source": [
    "from langchain_openai import ChatOpenAI\n",
    "from langchain_core.prompts import ChatPromptTemplate\n",
    "from langchain_core.output_parsers import StrOutputParser\n",
    "from langchain_core.vectorstores import VectorStore\n",
    "from langchain_core.document_loaders import DocumentLoader\n",
    "from langchain_core.retrievers import Retriever\n",
    "from langchain_core.chains import RetrievalQA"
   ]
  },
  {
   "cell_type": "code",
   "execution_count": null,
   "metadata": {},
   "outputs": [],
   "source": [
    "from langchain_openai import ChatOpenAI\n",
    "from langchain_core.prompts import ChatPromptTemplate\n",
    "from langchain_core.output_parsers import StrOutputParser\n",
    "from langchain_core.vectorstores import VectorStore\n",
    "from langchain.embeddings import OpenAIEmbeddings\n",
    "from langchain.document_loaders import PyPDFLoader\n",
    "# from langchain.retrievers import Retriever\n",
    "# from langchain_core.chains import RetrievalQA"
   ]
  },
  {
   "cell_type": "code",
   "execution_count": 11,
   "metadata": {},
   "outputs": [],
   "source": [
    "loaders = PyPDFLoader(\"data/National AI Policy Consultation Draft V1.pdf\")\n",
    "\n",
    "pages = loaders.load()"
   ]
  },
  {
   "cell_type": "code",
   "execution_count": 12,
   "metadata": {},
   "outputs": [
    {
     "data": {
      "text/plain": [
       "41"
      ]
     },
     "execution_count": 12,
     "metadata": {},
     "output_type": "execute_result"
    }
   ],
   "source": [
    "len(pages)"
   ]
  },
  {
   "cell_type": "code",
   "execution_count": 16,
   "metadata": {},
   "outputs": [],
   "source": [
    "from langchain.text_splitter import RecursiveCharacterTextSplitter\n",
    "\n",
    "text_splitter = RecursiveCharacterTextSplitter(\n",
    "    chunk_size=1000,\n",
    "    chunk_overlap=100\n",
    ")"
   ]
  },
  {
   "cell_type": "code",
   "execution_count": 17,
   "metadata": {},
   "outputs": [],
   "source": [
    "splitted_text_chunks = text_splitter.split_documents(pages)"
   ]
  },
  {
   "cell_type": "code",
   "execution_count": 19,
   "metadata": {},
   "outputs": [
    {
     "data": {
      "text/plain": [
       "150"
      ]
     },
     "execution_count": 19,
     "metadata": {},
     "output_type": "execute_result"
    }
   ],
   "source": [
    "len(splitted_text_chunks)"
   ]
  },
  {
   "cell_type": "code",
   "execution_count": 21,
   "metadata": {},
   "outputs": [],
   "source": [
    "# embeddings\n",
    "embeddings = OpenAIEmbeddings()"
   ]
  },
  {
   "cell_type": "code",
   "execution_count": null,
   "metadata": {},
   "outputs": [],
   "source": [
    "from langchain.vectorstores import FAISS\n",
    "\n",
    "vector_db = FAISS.from_documents(splitted_text_chunks, embeddings)"
   ]
  },
  {
   "cell_type": "code",
   "execution_count": 27,
   "metadata": {},
   "outputs": [
    {
     "data": {
      "text/plain": [
       "<langchain_community.vectorstores.faiss.FAISS at 0x2297aac85d0>"
      ]
     },
     "execution_count": 27,
     "metadata": {},
     "output_type": "execute_result"
    }
   ],
   "source": [
    "vector_db"
   ]
  },
  {
   "cell_type": "code",
   "execution_count": 28,
   "metadata": {},
   "outputs": [],
   "source": [
    "retriever = vector_db.as_retriever()"
   ]
  },
  {
   "cell_type": "code",
   "execution_count": 29,
   "metadata": {},
   "outputs": [],
   "source": [
    "response = retriever.invoke(\"What is the national AI policy?\")"
   ]
  },
  {
   "cell_type": "code",
   "execution_count": 30,
   "metadata": {},
   "outputs": [
    {
     "data": {
      "text/plain": [
       "[Document(metadata={'source': 'data/National AI Policy Consultation Draft V1.pdf', 'page': 5}, page_content='of AI in the country . For that, the policy document is put in place to reap long -term and sustainable benefits \\nfor its people.  \\nThe policy document offers a wide range of developmental initiatives necessary for awareness and \\nadoption, reimagining the transparent and fair use of personal data using AI and stimulating innovation \\nthrough industry -academia collaborations and investments in AI-led initiatives. The National AI Policy is \\ncrafted to focus on the equitable distribution o f opportunity and its responsible use , having the following \\ndefining attributes.  \\n• Evidence -Based and Target Oriented  \\n• User -Centric and Forward -Looking  \\n• Objective and Overarching  \\nThe AI policy further aims to augment AI and allied technologies through balanced demand and supply -\\nside interventions , as briefly described below.   \\n• Market Enablement - Establishment  of research & innovation cent ers in AI for developing, test -'),\n",
       " Document(metadata={'source': 'data/National AI Policy Consultation Draft V1.pdf', 'page': 6}, page_content='7 \\n 2 Introduction and Context  \\n2.1 Why Pakistan Needs AI Policy  \\nThe need for National AI Policy is to create a broad -based  awareness of the use of AI -based platforms while \\nkeeping privacy  at the forefront, upskilling human capital on AI and allied technologies, guid ing investment \\nin AI research and development, ensur ing ethical and responsible use of AI, and provide a framework for \\naddressing the challenges and risks associated with the socio -economic outfit  of the country . \\nThe AI policy covers the following  key areas, including:  \\n• Investment in Research and Development  Infrastructure : Pakistan  should invest in research and \\ndevelopment to build in-house  AI capabilities  required for application development based on local \\ndata . This investment should include funding for establishing research organizations that have a \\nsustainable mandate of basic research, data standardization, providing support to the government'),\n",
       " Document(metadata={'source': 'data/National AI Policy Consultation Draft V1.pdf', 'page': 26}, page_content='associated with AI’s widespread use.  \\nVI. Design policies in close interaction with the other stakeholders to promote a vibrant research and \\nentrepreneurship ecosystem for innovative AI applications that naturally align with our national \\ninterest.  \\nVII. Develop strategies for attracting our top AI talent from all over the world back to the country, easy \\nyet well -regulated data access to facilitate in novation, and policies to encourage the integration \\nof locally developed AI solutions.  \\nVIII. ARD should develop guidelines for data sharing that encourage entities with data to share it and \\nclarify the best practices for doing so. In addition, the guidelines sho uld spell out the obligations \\nof the data receiver. For government entities, these guidelines can be elevated to mandatory \\npolicies.  \\nIX. Develop regulation policies and standards for data -sharing among countries and lead multilateral \\ndiplomatic efforts to arra nge such agreements.'),\n",
       " Document(metadata={'source': 'data/National AI Policy Consultation Draft V1.pdf', 'page': 6}, page_content='sustainable mandate of basic research, data standardization, providing support to the government \\nfor regul atory and legal interventions regarding AI, maintaining a central computational \\ninfrastructure , data storage facilities , and partnerships with universities and research institutions \\nboth domestically and internationally.  This investment should also include  training programs to \\nbuild the necessary technical expertise . The AI policy outlines how Pakistan must  collaborate with \\nother countries to share best practices and expertise in AI.  \\n• Ethical and Responsible Use: The AI policy proposed the establishment of an AI regulatory \\ndirectorate that ensures  the ethical and responsible use of AI. This includes ensuring that AI is not \\nused to discriminate against individuals or groups and that its use is transparent and accountable.  \\n• Job Displacement: The AI policy addres ses the potential job displacement that could result from')]"
      ]
     },
     "execution_count": 30,
     "metadata": {},
     "output_type": "execute_result"
    }
   ],
   "source": [
    "response"
   ]
  },
  {
   "cell_type": "code",
   "execution_count": 31,
   "metadata": {},
   "outputs": [
    {
     "data": {
      "text/plain": [
       "4"
      ]
     },
     "execution_count": 31,
     "metadata": {},
     "output_type": "execute_result"
    }
   ],
   "source": [
    "len(response)"
   ]
  },
  {
   "cell_type": "code",
   "execution_count": 47,
   "metadata": {},
   "outputs": [],
   "source": [
    "# But i just want only 1 output without metadata only page content data in response. How can i do that?\n",
    "\n",
    "retriever = vector_db.as_retriever(search_kwargs={\"top_k\": 1})"
   ]
  },
  {
   "cell_type": "code",
   "execution_count": 48,
   "metadata": {},
   "outputs": [],
   "source": [
    "response = retriever.invoke(\"What is the national AI policy?\")"
   ]
  },
  {
   "cell_type": "code",
   "execution_count": 52,
   "metadata": {},
   "outputs": [
    {
     "data": {
      "text/plain": [
       "'of AI in the country . For that, the policy document is put in place to reap long -term and sustainable benefits \\nfor its people.  \\nThe policy document offers a wide range of developmental initiatives necessary for awareness and \\nadoption, reimagining the transparent and fair use of personal data using AI and stimulating innovation \\nthrough industry -academia collaborations and investments in AI-led initiatives. The National AI Policy is \\ncrafted to focus on the equitable distribution o f opportunity and its responsible use , having the following \\ndefining attributes.  \\n• Evidence -Based and Target Oriented  \\n• User -Centric and Forward -Looking  \\n• Objective and Overarching  \\nThe AI policy further aims to augment AI and allied technologies through balanced demand and supply -\\nside interventions , as briefly described below.   \\n• Market Enablement - Establishment  of research & innovation cent ers in AI for developing, test -'"
      ]
     },
     "execution_count": 52,
     "metadata": {},
     "output_type": "execute_result"
    }
   ],
   "source": [
    "response[0].page_content"
   ]
  },
  {
   "cell_type": "markdown",
   "metadata": {},
   "source": [
    "**Using Simple LCEL**"
   ]
  },
  {
   "cell_type": "code",
   "execution_count": null,
   "metadata": {},
   "outputs": [],
   "source": [
    "from langchain_openai import ChatOpenAI\n",
    "from langchain_core.prompts import ChatPromptTemplate\n",
    "from langchain_core.output_parsers import StrOutputParser\n",
    "from langchain_core.runnables import RunnablePassthrough"
   ]
  },
  {
   "cell_type": "code",
   "execution_count": 61,
   "metadata": {},
   "outputs": [],
   "source": [
    "template = \"\"\"Answer the question based on the following context:\n",
    "\n",
    "{context}\n",
    "\n",
    "Question {question}\n",
    "\"\"\"\n",
    "\n",
    "# output_parser = StrOutputParser()\n",
    "\n",
    "prompt = ChatPromptTemplate.from_template(template)\n",
    "\n",
    "model = ChatOpenAI()"
   ]
  },
  {
   "cell_type": "code",
   "execution_count": 62,
   "metadata": {},
   "outputs": [],
   "source": [
    "def format_docs(docs):\n",
    "    return \"\\n\\n\".join([d.page_content for d in docs])"
   ]
  },
  {
   "cell_type": "code",
   "execution_count": null,
   "metadata": {},
   "outputs": [],
   "source": [
    "chain = (\n",
    "    {\"context\": retriever | format_docs, \"question\": RunnablePassthrough()}\n",
    "    | prompt\n",
    "    | model\n",
    "    | StrOutputParser()\n",
    ")"
   ]
  },
  {
   "cell_type": "code",
   "execution_count": 65,
   "metadata": {},
   "outputs": [],
   "source": [
    "response = chain.invoke(\"what is the national AI policy?\")"
   ]
  },
  {
   "cell_type": "code",
   "execution_count": 66,
   "metadata": {},
   "outputs": [
    {
     "data": {
      "text/plain": [
       "'The national AI policy is a comprehensive document put in place by the government of Pakistan to create awareness, promote the responsible use of AI, stimulate innovation through collaborations, and address challenges and risks associated with AI adoption in the country. It focuses on investment in research and development infrastructure, ethical and responsible use of AI, job displacement concerns, and collaboration with other countries to share best practices and expertise in AI.'"
      ]
     },
     "execution_count": 66,
     "metadata": {},
     "output_type": "execute_result"
    }
   ],
   "source": [
    "response"
   ]
  },
  {
   "cell_type": "code",
   "execution_count": 71,
   "metadata": {},
   "outputs": [],
   "source": [
    "from operator import itemgetter\n",
    "from langchain.chains import create_retrieval_chain\n",
    "from langchain.chains.combine_documents import create_stuff_documents_chain"
   ]
  },
  {
   "cell_type": "code",
   "execution_count": 72,
   "metadata": {},
   "outputs": [],
   "source": [
    "# adding history to it\n",
    "history = []"
   ]
  },
  {
   "cell_type": "code",
   "execution_count": 78,
   "metadata": {},
   "outputs": [
    {
     "name": "stdout",
     "output_type": "stream",
     "text": [
      "Karachi is the largest city in Pakistan and serves as its financial and economic hub. It is located on the coast of the Arabian Sea and is known for its diverse population, vibrant culture, and bustling markets. Karachi is home to various industries, including textiles, manufacturing, and finance. The city also has a rich history, with landmarks such as the Quaid-e-Azam's Mausoleum, Karachi's Port Grand, and the Karachi Safari Park. Overall, Karachi is a dynamic and lively city with a lot to offer to residents and visitors alike.\n"
     ]
    }
   ],
   "source": [
    "template = \"\"\"Answer the question based on the following context:\n",
    "\n",
    "Question {question}\n",
    "\n",
    "conversation_history: {chat_history}\n",
    "\"\"\"\n",
    "\n",
    "prompt = ChatPromptTemplate.from_template(template)\n",
    "question_fetcher = itemgetter(\"question\")\n",
    "chat_history_fetcher = itemgetter(\"chat_history\")\n",
    "model = ChatOpenAI()\n",
    "setup = {\"question\": question_fetcher, \"chat_history\": chat_history_fetcher}\n",
    "chain = setup | prompt | model | StrOutputParser()\n",
    "query = \"tell me about Karachi\"\n",
    "response = chain.invoke(\n",
    "    {\"question\": query, \"chat_history\": \"\\n\".join(history)})\n",
    "print(response)\n",
    "query = \"user_question:\"+query\n",
    "response = \"ai_response:\"+response\n",
    "history.append((query, response))"
   ]
  },
  {
   "cell_type": "code",
   "execution_count": 79,
   "metadata": {},
   "outputs": [
    {
     "data": {
      "text/plain": [
       "['user_question:tell me about Karachi',\n",
       " ('user_question:tell me about Karachi',\n",
       "  \"ai_response:Karachi is the largest city in Pakistan and serves as its financial and economic hub. It is located on the coast of the Arabian Sea and is known for its diverse population, vibrant culture, and bustling markets. Karachi is home to various industries, including textiles, manufacturing, and finance. The city also has a rich history, with landmarks such as the Quaid-e-Azam's Mausoleum, Karachi's Port Grand, and the Karachi Safari Park. Overall, Karachi is a dynamic and lively city with a lot to offer to residents and visitors alike.\")]"
      ]
     },
     "execution_count": 79,
     "metadata": {},
     "output_type": "execute_result"
    }
   ],
   "source": [
    "history"
   ]
  },
  {
   "cell_type": "code",
   "execution_count": null,
   "metadata": {},
   "outputs": [],
   "source": []
  },
  {
   "cell_type": "code",
   "execution_count": null,
   "metadata": {
    "vscode": {
     "languageId": "markdown"
    }
   },
   "outputs": [],
   "source": [
    "# Initialize a new Git repository if you haven't already\n",
    "git init\n",
    "\n",
    "# Add all the file\n",
    "s to the staging area\n",
    "git add .\n",
    "\n",
    "# Commit the changes with a message\n",
    "git commit -m \"Initial commit\"\n",
    "\n",
    "# Add the remote repository URL (replace <REMOTE_URL> with your actual repository URL)\n",
    "git remote add origin <REMOTE_URL>\n",
    "\n",
    "# Push the changes to the remote repository\n",
    "git push -u origin master"
   ]
  },
  {
   "cell_type": "code",
   "execution_count": null,
   "metadata": {
    "vscode": {
     "languageId": "markdown"
    }
   },
   "outputs": [],
   "source": [
    "```markdown\n",
    "# Solution to Push Rejected Due to Repository Rule Violations\n",
    "\n",
    "When you encounter the error `push declined due to repository rule violations`, it typically means that the repository has some rules or protections in place that prevent certain types of changes from being pushed directly to the `master` branch. Here are some steps to resolve this issue:\n",
    "\n",
    "1. **Check Branch Protection Rules**:\n",
    "    - Go to the repository on GitHub.\n",
    "    - Navigate to `Settings` > `Branches`.\n",
    "    - Check if there are any branch protection rules set for the `master` branch. These rules might require pull requests, code reviews, or status checks before changes can be merged.\n",
    "\n",
    "2. **Create a New Branch**:\n",
    "    - Instead of pushing directly to the `master` branch, create a new branch for your changes.\n",
    "    - Use the following commands to create a new branch and push your changes:\n",
    "      ```bash\n",
    "      git checkout -b new-branch-name\n",
    "      git add .\n",
    "      git commit -m \"Your commit message\"\n",
    "      git push origin new-branch-name\n",
    "      ```\n",
    "\n",
    "3. **Open a Pull Request**:\n",
    "    - After pushing your changes to the new branch, go to the repository on GitHub.\n",
    "    - Open a pull request from your new branch to the `master` branch.\n",
    "    - Follow any required steps such as code reviews or status checks to get your pull request merged.\n",
    "\n",
    "By following these steps, you can comply with the repository rules and successfully contribute your changes.\n",
    "```"
   ]
  },
  {
   "cell_type": "code",
   "execution_count": null,
   "metadata": {
    "vscode": {
     "languageId": "markdown"
    }
   },
   "outputs": [],
   "source": [
    "```markdown\n",
    "# Project Title\n",
    "\n",
    "This repository contains a series of Jupyter Notebooks demonstrating various aspects of working with Language Models and Retrieval-Augmented Generation (RAG) using LangChain and OpenAI.\n",
    "\n",
    "## Notebooks\n",
    "\n",
    "1. **01_talk_with_llm.ipynb**: Introduction to interacting with Language Models.\n",
    "2. **02_Talk_with_llm_part2.ipynb**: Continuation of interacting with Language Models.\n",
    "3. **03_Data_Loders_RAG.ipynb**: Data loading techniques for RAG.\n",
    "4. **04_RAG_components.ipynb**: Components involved in RAG.\n",
    "5. **05_Basic_RAG_implementation.ipynb**: Basic implementation of RAG.\n",
    "6. **06_LCEL.ipynb**: Using Simple LCEL (LangChain Execution Language).\n",
    "\n",
    "## Data\n",
    "\n",
    "- The `data` directory contains the necessary data files for the notebooks.\n",
    "\n",
    "## Requirements\n",
    "\n",
    "To install the required dependencies, run:\n",
    "\n",
    "```bash\n",
    "pip install -r requirements.txt\n",
    "```\n",
    "\n",
    "## Author\n",
    "\n",
    "- **Haseebullah Kehar**\n",
    "\n",
    "## License\n",
    "\n",
    "This project is licensed under the MIT License - see the [LICENSE](LICENSE) file for details.\n",
    "```"
   ]
  }
 ],
 "metadata": {
  "kernelspec": {
   "display_name": "LC_series",
   "language": "python",
   "name": "python3"
  },
  "language_info": {
   "codemirror_mode": {
    "name": "ipython",
    "version": 3
   },
   "file_extension": ".py",
   "mimetype": "text/x-python",
   "name": "python",
   "nbconvert_exporter": "python",
   "pygments_lexer": "ipython3",
   "version": "3.11.10"
  }
 },
 "nbformat": 4,
 "nbformat_minor": 2
}
