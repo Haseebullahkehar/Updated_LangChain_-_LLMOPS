{
 "cells": [
  {
   "cell_type": "code",
   "execution_count": 1,
   "metadata": {},
   "outputs": [],
   "source": [
    "import os\n",
    "from dotenv import load_dotenv, find_dotenv\n",
    "_ = load_dotenv(find_dotenv())\n",
    "openai_api_key = os.environ[\"OPENAI_API_KEY\"]"
   ]
  },
  {
   "cell_type": "code",
   "execution_count": 2,
   "metadata": {},
   "outputs": [],
   "source": [
    "from langchain_openai import ChatOpenAI\n",
    "\n",
    "llm = ChatOpenAI(model=\"gpt-3.5-turbo\")"
   ]
  },
  {
   "cell_type": "code",
   "execution_count": 3,
   "metadata": {},
   "outputs": [
    {
     "data": {
      "text/plain": [
       "[{'url': 'https://talksport.com/football/1755223/euro-2024-best-players-cristiano-ronaldo-harry-kane-jude-bellingham-kylian-mbappe/',\n",
       "  'content': \"From Cristiano Ronaldo to Harry Kane, Jude Bellingham and Kylian Mbappe - the best players at Euro 2024 | talkSPORT From Cristiano Ronaldo to Harry Kane, Jude Bellingham and Kylian Mbappe – the best players at Euro 2024 Gareth Southgate's side face stiff competition though as World Cup finalists France remain one of the favourites to win, with Portugal, Spain and Germany also boasting immense talent. Fans are preparing for a spectacular month of action but who are the best players in the world set star at Euro 2024, talkSPORT.com has taken a look. He scored goals for England at Euro 2020 and struck on eight occasions across the 2018 and 2022 World Cups.\"},\n",
       " {'url': 'https://www.givemesport.com/ranking-the-15-best-players-at-euro-2024/',\n",
       "  'content': 'Best 11 At Euro 2024 Boasting the likes of Lamine Yamal and Cody Gakpo, there have been plenty of stars strutting their stuff in Germany.'},\n",
       " {'url': 'https://www.nbcsports.com/soccer/news/euro-2024-player-power-rankings-who-are-the-top-20-stars',\n",
       "  'content': 'Plus, every tournament there are always stars who emerge to make a name for themselves and players from Georgia and Austria are standing tall. Below are the top 20 players at EURO 2024 based on current form and we will update it throughout the tournament.'}]"
      ]
     },
     "execution_count": 3,
     "metadata": {},
     "output_type": "execute_result"
    }
   ],
   "source": [
    "from langchain_community.tools.tavily_search import TavilySearchResults\n",
    "search = TavilySearchResults(max_results=3)\n",
    "search.invoke(\"Who are the top stars of the 2024 Eurocup?\")"
   ]
  },
  {
   "cell_type": "code",
   "execution_count": 5,
   "metadata": {},
   "outputs": [],
   "source": [
    "tools = [search]"
   ]
  },
  {
   "cell_type": "code",
   "execution_count": 7,
   "metadata": {},
   "outputs": [
    {
     "data": {
      "text/plain": [
       "[TavilySearchResults(max_results=3)]"
      ]
     },
     "execution_count": 7,
     "metadata": {},
     "output_type": "execute_result"
    }
   ],
   "source": [
    "tools \n"
   ]
  },
  {
   "cell_type": "code",
   "execution_count": 6,
   "metadata": {},
   "outputs": [],
   "source": [
    "from langgraph.prebuilt import create_react_agent \n",
    "\n",
    "agent_executor = create_react_agent(llm, tools)"
   ]
  },
  {
   "cell_type": "code",
   "execution_count": 11,
   "metadata": {},
   "outputs": [
    {
     "data": {
      "text/plain": [
       "[HumanMessage(content='could you provide the code snippets for each Built-in functions in deluge, free pdf download as you gave for data types ?', id='1f741159-5562-437a-a9d8-07fa3b503969'),\n",
       " AIMessage(content='', additional_kwargs={'tool_calls': [{'id': 'call_CKkTpr1YX7ssNJe6gLUsS8Tp', 'function': {'arguments': '{\"query\": \"Deluge Built-in functions\"}', 'name': 'tavily_search_results_json'}, 'type': 'function'}, {'id': 'call_JEOOcmUqERpRljD0FdYlAEoL', 'function': {'arguments': '{\"query\": \"Deluge Built-in functions code snippets\"}', 'name': 'tavily_search_results_json'}, 'type': 'function'}]}, response_metadata={'token_usage': {'completion_tokens': 62, 'prompt_tokens': 106, 'total_tokens': 168, 'completion_tokens_details': {'accepted_prediction_tokens': 0, 'audio_tokens': 0, 'reasoning_tokens': 0, 'rejected_prediction_tokens': 0}, 'prompt_tokens_details': {'audio_tokens': 0, 'cached_tokens': 0}}, 'model_name': 'gpt-3.5-turbo-0125', 'system_fingerprint': None, 'finish_reason': 'tool_calls', 'logprobs': None}, id='run-b7d3a257-1beb-4192-8132-3fd95dc65fb3-0', tool_calls=[{'name': 'tavily_search_results_json', 'args': {'query': 'Deluge Built-in functions'}, 'id': 'call_CKkTpr1YX7ssNJe6gLUsS8Tp', 'type': 'tool_call'}, {'name': 'tavily_search_results_json', 'args': {'query': 'Deluge Built-in functions code snippets'}, 'id': 'call_JEOOcmUqERpRljD0FdYlAEoL', 'type': 'tool_call'}], usage_metadata={'input_tokens': 106, 'output_tokens': 62, 'total_tokens': 168}),\n",
       " ToolMessage(content='[{\"url\": \"https://www.zoho.com/deluge/help/built-in-functions.html\", \"content\": \"Built-in functions. Deluge provides many built in functions so that you can perform common tasks, for example computing the square root of a number, or checking if a given letter is present in a text, without having to write code. You can perform such common everyday tasks using pre-defined built-in functions.\"}, {\"url\": \"https://help.zoho.com/portal/en/community/topic/recent-updates-to-built-in-functions-in-deluge\", \"content\": \"Hello everyone, Deluge offers more than 200 built-in functions for widely performed actions, like adding specified number of business days to a date, removing extra leading & trailing spaces in a text, and so on. You can refer to our help documents and\"}, {\"url\": \"https://help.zoho.com/portal/en/community/topic/new-built-in-functions-in-deluge-14-7-2020\", \"content\": \"Another type of function that can be used in Deluge is built-in functions. It can be perceived as ready-to-use functions whose actions are pre-defined. That is, the script to perform the action, the required parameters, and the type of return value (if required) are already configured by us. This saves your time and effort as you can simply use\"}]', name='tavily_search_results_json', id='74cfa35e-f71c-4f6e-9ee6-9895416ee9c1', tool_call_id='call_CKkTpr1YX7ssNJe6gLUsS8Tp'),\n",
       " ToolMessage(content='[{\"url\": \"https://www.zoho.com/desk/extensions/guide/functions.html\", \"content\": \"Functions are built in the Deluge script builder, where you can drag-and-drop and create complex functions seamlessly. Functions. Functions are a snippet code that provides better modularity for your extensions. Developers can use these functions for server-side operations. Functions are built in the Deluge script builder, where you can drag\"}, {\"url\": \"https://www.zoho.com/sprints/extension-developer-guide/functions.html\", \"content\": \"Functions. A function is a snippet code that provides better modularity for your extensions. Developers can use these functions for server-side operations. Functions are built in the Deluge script builder, where you can drag-and-drop and create complex functions seamlessly. Functions are also a part of the extension.\"}, {\"url\": \"https://www.zoho.com/deluge/help/built-in-functions.html\", \"content\": \"Deluge provides many built in functions so that you can perform common tasks, for example computing the square root of a number, or checking if a given letter is present in a text, without having to write code. You can perform such common everyday tasks using pre-defined built-in functions. Each data type has its own set of built-in functions.\"}]', name='tavily_search_results_json', id='091f71cf-ef41-4df9-9fc8-284f8716ffe5', tool_call_id='call_JEOOcmUqERpRljD0FdYlAEoL'),\n",
       " AIMessage(content=\"I found some resources that explain Deluge's built-in functions. Here are a few links you can refer to for more details:\\n\\n1. [Built-in functions in Deluge](https://www.zoho.com/deluge/help/built-in-functions.html): Deluge provides many built-in functions for common tasks like computing the square root of a number or checking if a letter is present in a text.\\n\\n2. [Functions in Deluge script builder](https://www.zoho.com/desk/extensions/guide/functions.html): Functions in the Deluge script builder provide better modularity for your extensions and can be used for server-side operations.\\n\\nYou can explore these links for a more in-depth understanding of Deluge's built-in functions and how to use them effectively.\", response_metadata={'token_usage': {'completion_tokens': 155, 'prompt_tokens': 718, 'total_tokens': 873, 'completion_tokens_details': {'accepted_prediction_tokens': 0, 'audio_tokens': 0, 'reasoning_tokens': 0, 'rejected_prediction_tokens': 0}, 'prompt_tokens_details': {'audio_tokens': 0, 'cached_tokens': 0}}, 'model_name': 'gpt-3.5-turbo-0125', 'system_fingerprint': None, 'finish_reason': 'stop', 'logprobs': None}, id='run-ee4eedc0-17ae-49cc-8d0c-8a35938212f9-0', usage_metadata={'input_tokens': 718, 'output_tokens': 155, 'total_tokens': 873})]"
      ]
     },
     "execution_count": 11,
     "metadata": {},
     "output_type": "execute_result"
    }
   ],
   "source": [
    "from langchain_core.messages import HumanMessage\n",
    "\n",
    "response = agent_executor.invoke({\"messages\": [HumanMessage(content=\"could you provide the code snippets for each Built-in functions in deluge, free pdf download as you gave for data types ?\")]})\n",
    "\n",
    "response[\"messages\"]"
   ]
  },
  {
   "cell_type": "code",
   "execution_count": 12,
   "metadata": {},
   "outputs": [
    {
     "name": "stdout",
     "output_type": "stream",
     "text": [
      "{'agent': {'messages': [AIMessage(content='', additional_kwargs={'tool_calls': [{'id': 'call_V952mkQ71AkLwamayskdld6G', 'function': {'arguments': '{\"query\":\"2024 Eurocup final match location and date\"}', 'name': 'tavily_search_results_json'}, 'type': 'function'}]}, response_metadata={'token_usage': {'completion_tokens': 27, 'prompt_tokens': 97, 'total_tokens': 124, 'completion_tokens_details': {'accepted_prediction_tokens': 0, 'audio_tokens': 0, 'reasoning_tokens': 0, 'rejected_prediction_tokens': 0}, 'prompt_tokens_details': {'audio_tokens': 0, 'cached_tokens': 0}}, 'model_name': 'gpt-3.5-turbo-0125', 'system_fingerprint': None, 'finish_reason': 'tool_calls', 'logprobs': None}, id='run-3d64c359-c6d2-4853-9115-646cb2a6053b-0', tool_calls=[{'name': 'tavily_search_results_json', 'args': {'query': '2024 Eurocup final match location and date'}, 'id': 'call_V952mkQ71AkLwamayskdld6G', 'type': 'tool_call'}], usage_metadata={'input_tokens': 97, 'output_tokens': 27, 'total_tokens': 124})]}}\n",
      "----\n",
      "{'tools': {'messages': [ToolMessage(content='[{\"url\": \"https://en.wikipedia.org/wiki/UEFA_Euro_2024_Final\", \"content\": \"The UEFA Euro 2024 final was a football match that determined the winners of UEFA Euro 2024.The match was the seventeenth final of the European Championship, a quadrennial tournament contested by the men\\'s national teams of the member associations of UEFA to decide the champions of Europe. The match was held at the Olympiastadion in Berlin, Germany, on 14 July 2024, and was contested by Spain\"}, {\"url\": \"https://www.sportingnews.com/us/soccer/news/euro-2024-schedule-bracket-match-dates-times-fixtures-results/d6bae7be80402540f6f0890e\", \"content\": \"Euro 2024 concluded with the final in Berlin on July 14 as Spain defeated England 2-1. ... Date: Time (CET) Match: Location: June 29: 6 p.m. M1: Switzerland 2-0 Italy: Berlin (Olimpiastadion)\"}, {\"url\": \"https://www.uefa.com/euro2024/news/0284-18bb952a9458-2a9e1ff202c4-1000--euro-2024-final-when-and-where-is-it/\", \"content\": \"The UEFA EURO 2024 final was played on Sunday 14 July, kicking off at 21:00 CET. The final: all the reaction The match took place at Olympiastadion Berlin, the biggest stadium at the tournament\"}]', name='tavily_search_results_json', tool_call_id='call_V952mkQ71AkLwamayskdld6G')]}}\n",
      "----\n",
      "{'agent': {'messages': [AIMessage(content='The 2024 Eurocup final match will be held at the Olympiastadion in Berlin, Germany on 14 July 2024.', response_metadata={'token_usage': {'completion_tokens': 32, 'prompt_tokens': 473, 'total_tokens': 505, 'completion_tokens_details': {'accepted_prediction_tokens': 0, 'audio_tokens': 0, 'reasoning_tokens': 0, 'rejected_prediction_tokens': 0}, 'prompt_tokens_details': {'audio_tokens': 0, 'cached_tokens': 0}}, 'model_name': 'gpt-3.5-turbo-0125', 'system_fingerprint': None, 'finish_reason': 'stop', 'logprobs': None}, id='run-4cdf65e2-32a8-480e-ad38-2e64fcf4c815-0', usage_metadata={'input_tokens': 473, 'output_tokens': 32, 'total_tokens': 505})]}}\n",
      "----\n"
     ]
    }
   ],
   "source": [
    "for chunk in agent_executor.stream(\n",
    "    {'messages': [HumanMessage(content=\"when and where will it be  the 2024 Eurocup final match?\")]}\n",
    "):\n",
    "    print(chunk)\n",
    "    print(\"----\")"
   ]
  },
  {
   "cell_type": "markdown",
   "metadata": {},
   "source": [
    "### **Adding Memory** "
   ]
  },
  {
   "cell_type": "code",
   "execution_count": 13,
   "metadata": {},
   "outputs": [],
   "source": [
    "from langgraph.checkpoint.memory import MemorySaver\n",
    "\n",
    "memory = MemorySaver()"
   ]
  },
  {
   "cell_type": "code",
   "execution_count": 14,
   "metadata": {},
   "outputs": [],
   "source": [
    "agent_executor = create_react_agent(llm, tools, checkpointer=memory)\n",
    "\n",
    "config = {\"configurable\" : {\"thread_id\": \"001\"}}"
   ]
  },
  {
   "cell_type": "code",
   "execution_count": 15,
   "metadata": {},
   "outputs": [
    {
     "name": "stdout",
     "output_type": "stream",
     "text": [
      "{'agent': {'messages': [AIMessage(content='', additional_kwargs={'tool_calls': [{'id': 'call_8AVkLfK5p9aNsEZCuVBnWhnq', 'function': {'arguments': '{\"query\":\"2024 soccer Eurocup winner\"}', 'name': 'tavily_search_results_json'}, 'type': 'function'}]}, response_metadata={'token_usage': {'completion_tokens': 24, 'prompt_tokens': 91, 'total_tokens': 115, 'completion_tokens_details': {'accepted_prediction_tokens': 0, 'audio_tokens': 0, 'reasoning_tokens': 0, 'rejected_prediction_tokens': 0}, 'prompt_tokens_details': {'audio_tokens': 0, 'cached_tokens': 0}}, 'model_name': 'gpt-3.5-turbo-0125', 'system_fingerprint': None, 'finish_reason': 'tool_calls', 'logprobs': None}, id='run-abdfc594-ec18-4f4c-ad04-6c6693c1d652-0', tool_calls=[{'name': 'tavily_search_results_json', 'args': {'query': '2024 soccer Eurocup winner'}, 'id': 'call_8AVkLfK5p9aNsEZCuVBnWhnq', 'type': 'tool_call'}], usage_metadata={'input_tokens': 91, 'output_tokens': 24, 'total_tokens': 115})]}}\n",
      "----\n",
      "{'tools': {'messages': [ToolMessage(content='[{\"url\": \"https://www.sportingnews.com/us/soccer/news/who-won-euro-2024-spain-england-oyarzabal/19ab0b3bf663194bc5193e50\", \"content\": \"Spain won the 2024 European Championship, becoming the first team to lift the trophy four times, beating England 2-1 thanks to a late winner from Mikel Oyarzabal.\"}, {\"url\": \"https://en.wikipedia.org/wiki/UEFA_Euro_2024_Final\", \"content\": \"The UEFA Euro 2024 final was a football match that determined the winners of UEFA Euro 2024.The match was the seventeenth final of the European Championship, a quadrennial tournament contested by the men\\'s national teams of the member associations of UEFA to decide the champions of Europe. The match was held at the Olympiastadion in Berlin, Germany, on 14 July 2024, and was contested by Spain\"}, {\"url\": \"https://www.cnn.com/2024/07/14/sport/spain-england-euro-2024-final-spt-intl/index.html\", \"content\": \"Spain won a record-breaking fourth European Championship, defeating England 2-1 following a drama-filled second half in the Euro 2024 final on Sunday in Berlin.\"}]', name='tavily_search_results_json', tool_call_id='call_8AVkLfK5p9aNsEZCuVBnWhnq')]}}\n",
      "----\n",
      "{'agent': {'messages': [AIMessage(content='Spain won the 2024 European Championship, defeating England 2-1 in the final. Mikel Oyarzabal scored the late winner for Spain in the match.', response_metadata={'token_usage': {'completion_tokens': 37, 'prompt_tokens': 407, 'total_tokens': 444, 'completion_tokens_details': {'accepted_prediction_tokens': 0, 'audio_tokens': 0, 'reasoning_tokens': 0, 'rejected_prediction_tokens': 0}, 'prompt_tokens_details': {'audio_tokens': 0, 'cached_tokens': 0}}, 'model_name': 'gpt-3.5-turbo-0125', 'system_fingerprint': None, 'finish_reason': 'stop', 'logprobs': None}, id='run-e9331e2c-243c-4eac-b092-ca732acee1f0-0', usage_metadata={'input_tokens': 407, 'output_tokens': 37, 'total_tokens': 444})]}}\n",
      "----\n"
     ]
    }
   ],
   "source": [
    "for chunk in agent_executor.stream(\n",
    "    {'messages': [HumanMessage(content=\"Who won the 2024 soccer Eurocup?\")]}, config\n",
    "    \n",
    "):\n",
    "    print(chunk)\n",
    "    print('----')"
   ]
  },
  {
   "cell_type": "code",
   "execution_count": 19,
   "metadata": {},
   "outputs": [
    {
     "name": "stdout",
     "output_type": "stream",
     "text": [
      "{'agent': {'messages': [AIMessage(content='We were discussing Charlotte FC, a professional soccer team based in Charlotte, North Carolina. If you have any specific questions about Charlotte FC or if you need more information, feel free to ask!', response_metadata={'token_usage': {'completion_tokens': 40, 'prompt_tokens': 509, 'total_tokens': 549, 'completion_tokens_details': {'accepted_prediction_tokens': 0, 'audio_tokens': 0, 'reasoning_tokens': 0, 'rejected_prediction_tokens': 0}, 'prompt_tokens_details': {'audio_tokens': 0, 'cached_tokens': 0}}, 'model_name': 'gpt-3.5-turbo-0125', 'system_fingerprint': None, 'finish_reason': 'stop', 'logprobs': None}, id='run-16e51e21-337d-4adb-ae3f-3dfd6ed08577-0', usage_metadata={'input_tokens': 509, 'output_tokens': 40, 'total_tokens': 549})]}}\n",
      "-----\n"
     ]
    }
   ],
   "source": [
    "config = {\"configurable\": {\"thread_id\": \"002\"}}\n",
    "for chunk in agent_executor.stream(\n",
    "    {\"messages\": [HumanMessage(content=\"about what soccer team we were talking?\")]}, config\n",
    "):\n",
    "    print(chunk)\n",
    "    print('-----')"
   ]
  }
 ],
 "metadata": {
  "kernelspec": {
   "display_name": "LC_series",
   "language": "python",
   "name": "python3"
  },
  "language_info": {
   "codemirror_mode": {
    "name": "ipython",
    "version": 3
   },
   "file_extension": ".py",
   "mimetype": "text/x-python",
   "name": "python",
   "nbconvert_exporter": "python",
   "pygments_lexer": "ipython3",
   "version": "3.11.10"
  }
 },
 "nbformat": 4,
 "nbformat_minor": 2
}
